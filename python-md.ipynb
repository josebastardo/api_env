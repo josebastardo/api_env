{
 "cells": [
  {
   "cell_type": "markdown",
   "metadata": {},
   "source": [
    "8.4 Detalles\n",
    "django-admin es una herramienta de línea de comandos que te ayuda con tareas de administración:\n",
    "\n",
    "Terminal\n",
    "django-admin startproject mysite .\n",
    "El comando startproject crea la estructura del proyecto Django. \n",
    "El punto (\".\") indica que queremos crear el proyecto en el directorio actual.\n",
    "Esto también crea el archivo manage.py en la raíz del proyecto. manage.py hace lo mismo que \n",
    "django-admin y además se encarga de algunas cosas por ti. Por ejemplo, antes de poder usar Django, \n",
    "necesitas decirle qué archivo settings.py utilizar. manage.py hace esto definiendo una \n",
    "variable de entorno con el nombre \"DJANGO_SETTINGS_MODULE\". \n",
    "Sin embargo, no tienes que preocuparte por esto. Simplemente usa manage.py para \n",
    "tareas de administración como esta:\n",
    "Terminal\n",
    "\n",
    "python manage.py makemigrations\n",
    "Es posible que hayas notado que se generó un archivo de base de datos en la \n",
    "raíz del proyecto. De forma predeterminada, Django está configurado para usar \n",
    "la base de datos SQLite. Esto es perfectamente válido para propósitos de desarrollo, \n",
    "pero para producción deberías considerar otras alternativas. Con la plataforma Heroku, \n",
    "utilizamos la base de datos PostgreSQL.\n",
    "\n",
    "Puedes ignorar la advertencia \"Tienes 15 migraciones no aplicadas...\" en la terminal. \n",
    "Nos ocuparemos de las migraciones y las bases de datos más adelante.\n",
    "\n",
    "8.5 Resumen\n",
    "django-admin es una herramienta de línea de comandos para tareas administrativas.\n",
    "El comando startproject crea la estructura básica de un proyecto Django.\n",
    "Es más conveniente utilizar manage.py en lugar de django-admin para tareas administrativas una vez que el proyecto ha sido creado.\n",
    "SQLite es la opción de base de datos predeterminada."
   ]
  },
  {
   "cell_type": "code",
   "execution_count": null,
   "metadata": {},
   "outputs": [],
   "source": [
    "from django.shortcuts import render\n",
    "def index(request): # < here\n",
    "return render(request, 'myapp/index.html')"
   ]
  },
  {
   "cell_type": "code",
   "execution_count": 2,
   "metadata": {},
   "outputs": [
    {
     "ename": "ModuleNotFoundError",
     "evalue": "No module named 'myapp'",
     "output_type": "error",
     "traceback": [
      "\u001b[1;31m---------------------------------------------------------------------------\u001b[0m",
      "\u001b[1;31mModuleNotFoundError\u001b[0m                       Traceback (most recent call last)",
      "\u001b[1;32mc:\\Users\\Usuario\\Desktop\\githubs\\Django-paypal\\dpaypal\\blog_env\\python-md.ipynb Cell 2\u001b[0m line \u001b[0;36m3\n\u001b[0;32m      <a href='vscode-notebook-cell:/c%3A/Users/Usuario/Desktop/githubs/Django-paypal/dpaypal/blog_env/python-md.ipynb#W1sZmlsZQ%3D%3D?line=0'>1</a>\u001b[0m \u001b[39mfrom\u001b[39;00m \u001b[39mdjango\u001b[39;00m\u001b[39m.\u001b[39;00m\u001b[39mcontrib\u001b[39;00m \u001b[39mimport\u001b[39;00m admin\n\u001b[0;32m      <a href='vscode-notebook-cell:/c%3A/Users/Usuario/Desktop/githubs/Django-paypal/dpaypal/blog_env/python-md.ipynb#W1sZmlsZQ%3D%3D?line=1'>2</a>\u001b[0m \u001b[39mfrom\u001b[39;00m \u001b[39mdjango\u001b[39;00m\u001b[39m.\u001b[39;00m\u001b[39murls\u001b[39;00m \u001b[39mimport\u001b[39;00m path\n\u001b[1;32m----> <a href='vscode-notebook-cell:/c%3A/Users/Usuario/Desktop/githubs/Django-paypal/dpaypal/blog_env/python-md.ipynb#W1sZmlsZQ%3D%3D?line=2'>3</a>\u001b[0m \u001b[39mfrom\u001b[39;00m \u001b[39mmyapp\u001b[39;00m \u001b[39mimport\u001b[39;00m views \u001b[39mas\u001b[39;00m myapp_views \u001b[39m# < here\u001b[39;00m\n\u001b[0;32m      <a href='vscode-notebook-cell:/c%3A/Users/Usuario/Desktop/githubs/Django-paypal/dpaypal/blog_env/python-md.ipynb#W1sZmlsZQ%3D%3D?line=3'>4</a>\u001b[0m urlpatterns \u001b[39m=\u001b[39m [\n\u001b[0;32m      <a href='vscode-notebook-cell:/c%3A/Users/Usuario/Desktop/githubs/Django-paypal/dpaypal/blog_env/python-md.ipynb#W1sZmlsZQ%3D%3D?line=4'>5</a>\u001b[0m path(\u001b[39m'\u001b[39m\u001b[39madmin/\u001b[39m\u001b[39m'\u001b[39m, admin\u001b[39m.\u001b[39msite\u001b[39m.\u001b[39murls),\n\u001b[0;32m      <a href='vscode-notebook-cell:/c%3A/Users/Usuario/Desktop/githubs/Django-paypal/dpaypal/blog_env/python-md.ipynb#W1sZmlsZQ%3D%3D?line=5'>6</a>\u001b[0m path(\u001b[39m'\u001b[39m\u001b[39m'\u001b[39m, myapp_views\u001b[39m.\u001b[39mindex, name\u001b[39m=\u001b[39m\u001b[39m'\u001b[39m\u001b[39mindex\u001b[39m\u001b[39m'\u001b[39m), \u001b[39m# < here\u001b[39;00m\n\u001b[0;32m      <a href='vscode-notebook-cell:/c%3A/Users/Usuario/Desktop/githubs/Django-paypal/dpaypal/blog_env/python-md.ipynb#W1sZmlsZQ%3D%3D?line=6'>7</a>\u001b[0m ]\n",
      "\u001b[1;31mModuleNotFoundError\u001b[0m: No module named 'myapp'"
     ]
    }
   ],
   "source": [
    "from django.contrib import admin\n",
    "from django.urls import path\n",
    "from myapp import views as myapp_views # < here\n",
    "\n",
    "urlpatterns = [\n",
    "path('admin/', admin.site.urls),\n",
    "path('', myapp_views.index, name='index'), # < here\n",
    "]\n",
    "\n"
   ]
  },
  {
   "cell_type": "markdown",
   "metadata": {},
   "source": [
    "Summary\n",
    "startapp command creates new apps.\n",
    "Don’t forget to add the app to the mysite/settings.py file INSTALLED_APPS\n",
    "list.\n",
    "app/templates/app/ is a typical location for app template files.\n",
    "app/views.py file is a typical location for app view functions.\n",
    "mysite/urls.py file is a typical location for URL patterns."
   ]
  }
 ],
 "metadata": {
  "kernelspec": {
   "display_name": "Python 3 (ipykernel)",
   "language": "python",
   "name": "python3"
  },
  "language_info": {
   "codemirror_mode": {
    "name": "ipython",
    "version": 3
   },
   "file_extension": ".py",
   "mimetype": "text/x-python",
   "name": "python",
   "nbconvert_exporter": "python",
   "pygments_lexer": "ipython3",
   "version": "3.10.11"
  }
 },
 "nbformat": 4,
 "nbformat_minor": 4
}
